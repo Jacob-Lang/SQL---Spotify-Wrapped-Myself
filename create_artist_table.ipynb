{
 "cells": [
  {
   "cell_type": "markdown",
   "metadata": {},
   "source": [
    "# Creating artist table in SQL database\n",
    "\n",
    "To aid my SQL Spotify Wrapped project I need an artist table in my database. This will contain info about the artist (genre, popularity, etc) and can be joined to my (streaming) history table on the artist name. (Or I might have to add artist IDs).\n",
    "\n",
    "To populate the artist table I will use the Spotify API and spotipy in python.\n",
    "\n",
    "Below I also take the opportunity to delete podcasts from the history table. They show up as most listened by msPlayed and I'm not interested in this. \n",
    "\n",
    "### Set up"
   ]
  },
  {
   "cell_type": "code",
   "execution_count": 1,
   "metadata": {},
   "outputs": [],
   "source": [
    "import config as cfg\n",
    "\n",
    "# Spotify stuff\n",
    "import spotipy  # this is a python wrapper for interacting with the Spotify API\n",
    "from spotipy.oauth2 import SpotifyClientCredentials\n",
    "client_credentials_manager = SpotifyClientCredentials(client_id=cfg.client_id, client_secret=cfg.client_secret)\n",
    "sp = spotipy.Spotify(client_credentials_manager=client_credentials_manager)\n",
    "\n",
    "# SQL\n",
    "import sqlite3\n",
    "\n",
    "# pandas just for displaying nice table\n",
    "import pandas as pd\n"
   ]
  },
  {
   "cell_type": "markdown",
   "metadata": {},
   "source": [
    "### Get artist info\n",
    "\n",
    "How to get info about a specific artist"
   ]
  },
  {
   "cell_type": "code",
   "execution_count": 2,
   "metadata": {},
   "outputs": [
    {
     "name": "stdout",
     "output_type": "stream",
     "text": [
      "Kanye West genres: ['chicago rap', 'rap']\n",
      "Kanye West popularity: 95\n"
     ]
    }
   ],
   "source": [
    "artist_name = 'Kanye West' # for example\n",
    "artist_uri = sp.search(q ='artist:' + artist_name, type='artist')['artists']['items'][0]['uri']\n",
    "print(artist_name + ' genres:', sp.artist(artist_uri)['genres'])\n",
    "print(artist_name + ' popularity:', sp.artist(artist_uri)['popularity'])"
   ]
  },
  {
   "cell_type": "markdown",
   "metadata": {},
   "source": [
    "### Create new table\n",
    "\n",
    "Loop though artists in history table. Search artists using spotipy. Fill in new table."
   ]
  },
  {
   "cell_type": "code",
   "execution_count": 2,
   "metadata": {},
   "outputs": [],
   "source": [
    "# connect to database and create cursor object\n",
    "con = sqlite3.connect('db.sqlite3')\n",
    "cur = con.cursor()"
   ]
  },
  {
   "cell_type": "code",
   "execution_count": 4,
   "metadata": {},
   "outputs": [
    {
     "name": "stdout",
     "output_type": "stream",
     "text": [
      "This year I have listened to 1125 different artists\n",
      "The first 20 from the list are:\n",
      "[('Whitney Houston',), ('Stereophonics',), ('King Krule',), ('Ariana Grande',), ('Todd Terry',), ('ZAYN',), ('ON / OFF / ON',), ('Night Flight',), ('Jammz',), ('Filthy Gears',), ('Meridian Dan',), ('Ghetts',), ('Sox',), ('Nick Brewer',), ('President T',), ('Bugzy Malone',), ('Big Narstie',), ('Halo',), ('P Money',), ('Oscar #Worldpeace',)]\n"
     ]
    }
   ],
   "source": [
    "# query distinct arists in history table\n",
    "sql_command = \"\"\"SELECT DISTINCT artistName FROM history\"\"\"\n",
    "cur.execute(sql_command)\n",
    "artist_names = cur.fetchall()\n",
    "N_artists = len(artist_names)\n",
    "print('This year I have listened to', N_artists, 'different artists')\n",
    "print('The first 20 from the list are:')\n",
    "print(artist_names[0:20]) "
   ]
  },
  {
   "cell_type": "code",
   "execution_count": 88,
   "metadata": {},
   "outputs": [
    {
     "data": {
      "text/plain": [
       "<sqlite3.Cursor at 0x14943d570a0>"
      ]
     },
     "execution_count": 88,
     "metadata": {},
     "output_type": "execute_result"
    }
   ],
   "source": [
    "# create new table. THIS TAKES A LONG TIME TO RUN!\n",
    "sql_command = \"\"\"\n",
    "CREATE TABLE IF NOT EXISTS [artist] (\n",
    "[artistName] VARCHAR NULL UNIQUE,\n",
    "[genre] VARCHAR NULL,\n",
    "[popularity] INT NULL\n",
    ");\n",
    "\"\"\"\n",
    "cur.execute(sql_command)\n",
    "\n",
    "# fill table\n",
    "# This takes a while to run. It may be more efficient to create one large SQL command and run that in one go rather than repeatedly running small commands. \n",
    "cur.execute(\"\"\"BEGIN TRANSACTION\"\"\")\n",
    "\n",
    "for row in artist_names:\n",
    "    artist_name = row[0]\n",
    "    \n",
    "    # find artist\n",
    "    try:\n",
    "        artist_uri = sp.search(q ='artist:' + artist_name, type='artist')['artists']['items'][0]['uri']\n",
    "    except: \n",
    "        continue  # if no artist found, skip to next. \n",
    "    \n",
    "    # find genre\n",
    "    try:\n",
    "        genre = sp.artist(artist_uri)['genres'][0]\n",
    "    except:\n",
    "        genre = 'NULL'  # if no genre found\n",
    "    \n",
    "    # find popularity\n",
    "    popularity = sp.artist(artist_uri)['popularity']\n",
    "    \n",
    "    sql_command = \"\"\"INSERT INTO artist VALUES (?,?,?)\"\"\"# put data in here\n",
    "    cur.execute(sql_command, [artist_name, genre, popularity])\n",
    "\n",
    "cur.execute(\"\"\"COMMIT\"\"\")\n"
   ]
  },
  {
   "cell_type": "markdown",
   "metadata": {},
   "source": [
    "#  Deleteing podcasts from history"
   ]
  },
  {
   "cell_type": "code",
   "execution_count": 3,
   "metadata": {},
   "outputs": [
    {
     "name": "stdout",
     "output_type": "stream",
     "text": [
      "[]\n"
     ]
    }
   ],
   "source": [
    "# delete podcasts I listen too.\n",
    "cur.execute(\"\"\"DELETE FROM history WHERE artistName = \"Dan Carlin's Hardcore History\" \"\"\")\n",
    "cur.execute(\"\"\"DELETE FROM history WHERE artistName = \"F1: Beyond The Grid\" \"\"\")\n",
    "cur.execute(\"\"\"DELETE FROM history WHERE artistName = \"THE ADAM BUXTON PODCAST\" \"\"\")\n",
    "cur.execute(\"\"\"DELETE FROM history WHERE artistName = \"Athletico Mince\" \"\"\")\n",
    "cur.execute(\"\"\"DELETE FROM history WHERE artistName = \"Desert Island Discs\" \"\"\")\n",
    "cur.execute(\"\"\"DELETE FROM history WHERE artistName = \"Siraj Raval Podcast\" \"\"\")\n",
    "cur.execute(\"\"\"DELETE FROM history WHERE artistName = \"Getting Curious with Jonathan Van Ness\" \"\"\")\n",
    "cur.execute(\"\"\"DELETE FROM history WHERE artistName = \"Reasons to be Cheerful with Ed Miliband and Geoff Lloyd\" \"\"\")\n",
    "cur.execute(\"\"\"DELETE FROM history WHERE artistName = \"Cheerful Election Daily with Owen Jones\" \"\"\")\n",
    "cur.execute(\"\"\"DELETE FROM history WHERE artistName = \"Today in Focus\" \"\"\")\n",
    "\n",
    "# check deleted\n",
    "cur.execute(\"\"\"SELECT * FROM history WHERE artistName = \"Today in Focus\" \"\"\")\n",
    "print(cur.fetchmany(10))\n"
   ]
  },
  {
   "cell_type": "code",
   "execution_count": 4,
   "metadata": {},
   "outputs": [],
   "source": [
    "con.commit()\n",
    "con.close()"
   ]
  },
  {
   "cell_type": "code",
   "execution_count": null,
   "metadata": {},
   "outputs": [],
   "source": []
  },
  {
   "cell_type": "code",
   "execution_count": null,
   "metadata": {},
   "outputs": [],
   "source": []
  }
 ],
 "metadata": {
  "kernelspec": {
   "display_name": "Python 3",
   "language": "python",
   "name": "python3"
  },
  "language_info": {
   "codemirror_mode": {
    "name": "ipython",
    "version": 3
   },
   "file_extension": ".py",
   "mimetype": "text/x-python",
   "name": "python",
   "nbconvert_exporter": "python",
   "pygments_lexer": "ipython3",
   "version": "3.6.8"
  }
 },
 "nbformat": 4,
 "nbformat_minor": 2
}
