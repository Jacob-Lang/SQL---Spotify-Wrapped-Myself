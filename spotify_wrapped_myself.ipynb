{
 "cells": [
  {
   "cell_type": "markdown",
   "metadata": {},
   "source": [
    "# Spotify wrapped myself! - SQL project\n",
    "\n",
    "Spotify keep a record of every time we listen to a song. They use this to produce the yearly Spotify Wrapped where they tell us our most listened artists of the year etc. Here is mine for 2019:\n",
    "\n",
    "*(Side note: You're about to get a glimpse into music taste... don't judge me!)*\n",
    "\n",
    "![my spotify wrapped 2019](official_spotify_wrapped.jfif)\n",
    "\n",
    "It is possible to request your stored data from Spotify. I did this and attempt to recreate my Spotify Wrapped the long way - flexing some newly aquired SQL skills.\n",
    "\n",
    "## Data download to SQL database\n",
    "\n",
    "The data comes in JSON format with entries that look a bit like this:\n",
    "   \n",
    "*endTime:\"2018-12-10 20:03\"  \n",
    "artistName:\"Whitney Houston\"   \n",
    "trackName:\"How Will I Know\"   \n",
    "msPlayed:93706*\n",
    "   \n",
    "I used this website (https://numidian.io/convert/json/to/sqlite) to convert the JSON file to a SQLite database. To control SQLite through Python I used the sqlite3 package and found this tutorial (https://stackabuse.com/a-sqlite-tutorial-with-python/) very helpful. Finally I created a second table in my database (see create_artist_table.ipynb) by scraping data from the Spotify Web API (using the spotipy package). This second table contains the columns (artist, genre, popularity). (Note. I learnt to use the Spotify Web API in my Album Covers project: https://github.com/Jacob-Lang/APIs---Spotify-Album-Covers/blob/master/AlbumCoverColoursByGenre.ipynb .)\n",
    "\n",
    "## Set up\n",
    "\n",
    "Just some dependencies and set up here:"
   ]
  },
  {
   "cell_type": "code",
   "execution_count": 18,
   "metadata": {},
   "outputs": [],
   "source": [
    "%matplotlib inline\n",
    "\n",
    "# To input json->sqlite conversion (sqlify-export.sql) into the database run in terminal (after creating db.sqlite3)\n",
    "# sqlite3 db.sqlite3 < sqlify-export.sql\n",
    "\n",
    "import sqlite3  # to run SQLite through Python\n",
    "import utils # contains a custom function to present the tables nicely.\n",
    "\n",
    "import matplotlib.pyplot as plt\n",
    "import numpy as np"
   ]
  },
  {
   "cell_type": "code",
   "execution_count": 2,
   "metadata": {},
   "outputs": [],
   "source": [
    "# connect to database and create cursor object\n",
    "con = sqlite3.connect('db.sqlite3')\n",
    "cur = con.cursor()"
   ]
  },
  {
   "cell_type": "markdown",
   "metadata": {},
   "source": [
    "## View history table\n",
    "\n",
    "The streaming data is stored in the history table. The data about the artists is contained in the artist table. We can view the first few entries of each as follows:"
   ]
  },
  {
   "cell_type": "code",
   "execution_count": 3,
   "metadata": {},
   "outputs": [
    {
     "name": "stdout",
     "output_type": "stream",
     "text": [
      "The first 10 entries in the history table are:\n"
     ]
    },
    {
     "data": {
      "text/html": [
       "<table border=\"1\" class=\"dataframe\">\n",
       "  <thead>\n",
       "    <tr style=\"text-align: right;\">\n",
       "      <th>endTime</th>\n",
       "      <th>artistName</th>\n",
       "      <th>trackName</th>\n",
       "      <th>msPlayed</th>\n",
       "    </tr>\n",
       "  </thead>\n",
       "  <tbody>\n",
       "    <tr>\n",
       "      <td>2018-12-10 20:03</td>\n",
       "      <td>Whitney Houston</td>\n",
       "      <td>How Will I Know</td>\n",
       "      <td>93706</td>\n",
       "    </tr>\n",
       "    <tr>\n",
       "      <td>2018-12-13 10:21</td>\n",
       "      <td>Stereophonics</td>\n",
       "      <td>Indian Summer</td>\n",
       "      <td>133240</td>\n",
       "    </tr>\n",
       "    <tr>\n",
       "      <td>2018-12-13 17:01</td>\n",
       "      <td>King Krule</td>\n",
       "      <td>Easy Easy</td>\n",
       "      <td>20505</td>\n",
       "    </tr>\n",
       "    <tr>\n",
       "      <td>2018-12-14 11:08</td>\n",
       "      <td>King Krule</td>\n",
       "      <td>Easy Easy</td>\n",
       "      <td>880</td>\n",
       "    </tr>\n",
       "    <tr>\n",
       "      <td>2018-12-14 11:12</td>\n",
       "      <td>Ariana Grande</td>\n",
       "      <td>imagine</td>\n",
       "      <td>212293</td>\n",
       "    </tr>\n",
       "    <tr>\n",
       "      <td>2018-12-14 11:16</td>\n",
       "      <td>Todd Terry</td>\n",
       "      <td>Just Getting Warm</td>\n",
       "      <td>216774</td>\n",
       "    </tr>\n",
       "    <tr>\n",
       "      <td>2018-12-14 11:19</td>\n",
       "      <td>ZAYN</td>\n",
       "      <td>There You Are</td>\n",
       "      <td>199600</td>\n",
       "    </tr>\n",
       "    <tr>\n",
       "      <td>2018-12-14 15:39</td>\n",
       "      <td>ON / OFF / ON</td>\n",
       "      <td>Lifelines</td>\n",
       "      <td>5852</td>\n",
       "    </tr>\n",
       "    <tr>\n",
       "      <td>2018-12-14 15:39</td>\n",
       "      <td>Night Flight</td>\n",
       "      <td>Song to Fall Asleep</td>\n",
       "      <td>192500</td>\n",
       "    </tr>\n",
       "    <tr>\n",
       "      <td>2018-12-14 15:42</td>\n",
       "      <td>Jammz</td>\n",
       "      <td>Play That</td>\n",
       "      <td>209000</td>\n",
       "    </tr>\n",
       "  </tbody>\n",
       "</table>"
      ],
      "text/plain": [
       "<IPython.core.display.HTML object>"
      ]
     },
     "execution_count": 3,
     "metadata": {},
     "output_type": "execute_result"
    }
   ],
   "source": [
    "# See data in history table \n",
    "sql_command = \"\"\"SELECT * FROM history\"\"\"    # write SQLite  commands like this\n",
    "cur.execute(sql_command)                     # execute them like this\n",
    "print('The first 10 entries in the history table are:')\n",
    "utils.show_table(cur, 10)                    # custom function in utils for displaying the resultant tables a bit nicer"
   ]
  },
  {
   "cell_type": "code",
   "execution_count": 4,
   "metadata": {},
   "outputs": [
    {
     "name": "stdout",
     "output_type": "stream",
     "text": [
      "The first 10 entries in the artist table are:\n"
     ]
    },
    {
     "data": {
      "text/html": [
       "<table border=\"1\" class=\"dataframe\">\n",
       "  <thead>\n",
       "    <tr style=\"text-align: right;\">\n",
       "      <th>artistName</th>\n",
       "      <th>genre</th>\n",
       "      <th>popularity</th>\n",
       "    </tr>\n",
       "  </thead>\n",
       "  <tbody>\n",
       "    <tr>\n",
       "      <td>Whitney Houston</td>\n",
       "      <td>dance pop</td>\n",
       "      <td>84</td>\n",
       "    </tr>\n",
       "    <tr>\n",
       "      <td>Stereophonics</td>\n",
       "      <td>britpop</td>\n",
       "      <td>70</td>\n",
       "    </tr>\n",
       "    <tr>\n",
       "      <td>King Krule</td>\n",
       "      <td>indietronica</td>\n",
       "      <td>64</td>\n",
       "    </tr>\n",
       "    <tr>\n",
       "      <td>Ariana Grande</td>\n",
       "      <td>dance pop</td>\n",
       "      <td>97</td>\n",
       "    </tr>\n",
       "    <tr>\n",
       "      <td>Todd Terry</td>\n",
       "      <td>chicago house</td>\n",
       "      <td>56</td>\n",
       "    </tr>\n",
       "    <tr>\n",
       "      <td>ZAYN</td>\n",
       "      <td>dance pop</td>\n",
       "      <td>87</td>\n",
       "    </tr>\n",
       "    <tr>\n",
       "      <td>ON / OFF / ON</td>\n",
       "      <td>NULL</td>\n",
       "      <td>9</td>\n",
       "    </tr>\n",
       "    <tr>\n",
       "      <td>Night Flight</td>\n",
       "      <td>modern hard rock</td>\n",
       "      <td>43</td>\n",
       "    </tr>\n",
       "    <tr>\n",
       "      <td>Jammz</td>\n",
       "      <td>grime</td>\n",
       "      <td>34</td>\n",
       "    </tr>\n",
       "    <tr>\n",
       "      <td>Filthy Gears</td>\n",
       "      <td>instrumental grime</td>\n",
       "      <td>35</td>\n",
       "    </tr>\n",
       "  </tbody>\n",
       "</table>"
      ],
      "text/plain": [
       "<IPython.core.display.HTML object>"
      ]
     },
     "execution_count": 4,
     "metadata": {},
     "output_type": "execute_result"
    }
   ],
   "source": [
    "# See data in artist table (made myself in create_artist_table.ipynb)  \n",
    "sql_command = \"\"\"SELECT * FROM artist\"\"\"\n",
    "cur.execute(sql_command)\n",
    "print('The first 10 entries in the artist table are:')\n",
    "utils.show_table(cur, 10)"
   ]
  },
  {
   "cell_type": "markdown",
   "metadata": {},
   "source": [
    "Note: The \"popularity\" column in the arist table is a popularity rating given to artists by Spotify based on recent and historic listening trends. Also, Spotify API returns a list of genres for each artsit ordered alphabetically. I simply chose to select the first genre from this list. This creates mildly unexpected results as discussed later and should be improved in future revisions.)\n",
    "\n",
    "## Most played artist and track\n",
    "\n",
    "Now my database tables are good to go I can use SQL commands to directly find out the most played artist (I'll measure this by total listening time) and most played tracks (I'll measure this by number of plays)."
   ]
  },
  {
   "cell_type": "code",
   "execution_count": 5,
   "metadata": {},
   "outputs": [
    {
     "name": "stdout",
     "output_type": "stream",
     "text": [
      "My most listened artists by time played were:\n"
     ]
    },
    {
     "data": {
      "text/html": [
       "<table border=\"1\" class=\"dataframe\">\n",
       "  <thead>\n",
       "    <tr style=\"text-align: right;\">\n",
       "      <th>artistName</th>\n",
       "      <th>hours_listened</th>\n",
       "    </tr>\n",
       "  </thead>\n",
       "  <tbody>\n",
       "    <tr>\n",
       "      <td>Bon Iver</td>\n",
       "      <td>17.3</td>\n",
       "    </tr>\n",
       "    <tr>\n",
       "      <td>Ariana Grande</td>\n",
       "      <td>14.9</td>\n",
       "    </tr>\n",
       "    <tr>\n",
       "      <td>Skepta</td>\n",
       "      <td>8.6</td>\n",
       "    </tr>\n",
       "    <tr>\n",
       "      <td>The 1975</td>\n",
       "      <td>8.3</td>\n",
       "    </tr>\n",
       "    <tr>\n",
       "      <td>SZA</td>\n",
       "      <td>7.6</td>\n",
       "    </tr>\n",
       "    <tr>\n",
       "      <td>DaVido</td>\n",
       "      <td>7.2</td>\n",
       "    </tr>\n",
       "    <tr>\n",
       "      <td>D'Angelo</td>\n",
       "      <td>5.5</td>\n",
       "    </tr>\n",
       "    <tr>\n",
       "      <td>Foals</td>\n",
       "      <td>4.9</td>\n",
       "    </tr>\n",
       "    <tr>\n",
       "      <td>Frank Ocean</td>\n",
       "      <td>4.8</td>\n",
       "    </tr>\n",
       "    <tr>\n",
       "      <td>Little Simz</td>\n",
       "      <td>4.7</td>\n",
       "    </tr>\n",
       "  </tbody>\n",
       "</table>"
      ],
      "text/plain": [
       "<IPython.core.display.HTML object>"
      ]
     },
     "execution_count": 5,
     "metadata": {},
     "output_type": "execute_result"
    }
   ],
   "source": [
    "# Most played artists  CHANGE THIS TO MOST PLAYED IN MINUTES/HOURS.\n",
    "#sql_command = \"\"\"SELECT artistName, COUNT(m) AS cnt FROM history GROUP BY artistName ORDER BY cnt DESC\"\"\"\n",
    "sql_command = \"\"\"SELECT artistName, ROUND(SUM(msPlayed)/(60*60*1000.0),1) AS hours_listened FROM history GROUP BY artistName ORDER BY hours_listened DESC\"\"\"\n",
    "cur.execute(sql_command)\n",
    "print('My most listened artists by time played were:')\n",
    "utils.show_table(cur, 10)"
   ]
  },
  {
   "cell_type": "markdown",
   "metadata": {},
   "source": [
    "This is an excellent match to the official Spotify Wrapped I was given! (refer to image at top.) The only discrepancy is the swapped order of The 1975 and Skepta but there is less than an hours listening difference so this can be explained by my year of downloaded data from Spotify not exactly corresponding with the year measured by Spotify in the official Spotify Wrapped."
   ]
  },
  {
   "cell_type": "code",
   "execution_count": 6,
   "metadata": {},
   "outputs": [
    {
     "name": "stdout",
     "output_type": "stream",
     "text": [
      "My most listened tracks by number of plays were:\n"
     ]
    },
    {
     "data": {
      "text/html": [
       "<table border=\"1\" class=\"dataframe\">\n",
       "  <thead>\n",
       "    <tr style=\"text-align: right;\">\n",
       "      <th>trackName</th>\n",
       "      <th>num_plays</th>\n",
       "    </tr>\n",
       "  </thead>\n",
       "  <tbody>\n",
       "    <tr>\n",
       "      <td>No Sleep</td>\n",
       "      <td>42</td>\n",
       "    </tr>\n",
       "    <tr>\n",
       "      <td>Hey\\, Ma</td>\n",
       "      <td>38</td>\n",
       "    </tr>\n",
       "    <tr>\n",
       "      <td>Supermodel</td>\n",
       "      <td>38</td>\n",
       "    </tr>\n",
       "    <tr>\n",
       "      <td>Bullet From A Gun</td>\n",
       "      <td>34</td>\n",
       "    </tr>\n",
       "    <tr>\n",
       "      <td>Sunflower - Spider-Man: Into the Spider-Verse</td>\n",
       "      <td>34</td>\n",
       "    </tr>\n",
       "    <tr>\n",
       "      <td>What Do You Mean?</td>\n",
       "      <td>33</td>\n",
       "    </tr>\n",
       "    <tr>\n",
       "      <td>U (Man Like)</td>\n",
       "      <td>32</td>\n",
       "    </tr>\n",
       "    <tr>\n",
       "      <td>Dangerous Woman</td>\n",
       "      <td>31</td>\n",
       "    </tr>\n",
       "    <tr>\n",
       "      <td>bad idea</td>\n",
       "      <td>30</td>\n",
       "    </tr>\n",
       "    <tr>\n",
       "      <td>Be Alright</td>\n",
       "      <td>28</td>\n",
       "    </tr>\n",
       "  </tbody>\n",
       "</table>"
      ],
      "text/plain": [
       "<IPython.core.display.HTML object>"
      ]
     },
     "execution_count": 6,
     "metadata": {},
     "output_type": "execute_result"
    }
   ],
   "source": [
    "# run SQL command on database. Most played tracks CHANGE TO BY MINS/HOURS AS WELL. OR KEEP.\n",
    "sql_command = \"\"\"SELECT trackName, COUNT(trackName) AS num_plays FROM history GROUP BY trackName ORDER BY num_plays DESC\"\"\"\n",
    "cur.execute(sql_command)\n",
    "print('My most listened tracks by number of plays were:')\n",
    "utils.show_table(cur, 10)"
   ]
  },
  {
   "cell_type": "markdown",
   "metadata": {},
   "source": [
    "This corresponds less well with the official Spotify wrapped however this difference of num_plays in the top ten is only 14 so it is clear to see how this order could change on a daily basis. The discrepancy is then explained by not knowing the exact period Spotify takes data from. \n",
    "\n",
    "## Total listen time and most played genre\n",
    "\n",
    "To complete the comparison with the official Spotify Wrapped I can find the total minutes listened and my favourite genre:"
   ]
  },
  {
   "cell_type": "code",
   "execution_count": 7,
   "metadata": {},
   "outputs": [
    {
     "name": "stdout",
     "output_type": "stream",
     "text": [
      "Total listen time: 17800 minutes\n"
     ]
    }
   ],
   "source": [
    "# Sum total msPlayed\n",
    "sql_command = \"\"\"SELECT SUM(msPlayed)/(60*1000.0) FROM history\"\"\"\n",
    "cur.execute(sql_command)\n",
    "total_playtime = round(cur.fetchall()[0][0]) # in minutes\n",
    "print('Total listen time:', total_playtime, 'minutes')"
   ]
  },
  {
   "cell_type": "markdown",
   "metadata": {},
   "source": [
    "Again we see a small discrepancy, as discussed above, but this is a very close match. "
   ]
  },
  {
   "cell_type": "code",
   "execution_count": 8,
   "metadata": {},
   "outputs": [
    {
     "data": {
      "text/html": [
       "<table border=\"1\" class=\"dataframe\">\n",
       "  <thead>\n",
       "    <tr style=\"text-align: right;\">\n",
       "      <th>genre</th>\n",
       "      <th>hours_played</th>\n",
       "    </tr>\n",
       "  </thead>\n",
       "  <tbody>\n",
       "    <tr>\n",
       "      <td>dance pop</td>\n",
       "      <td>31.1</td>\n",
       "    </tr>\n",
       "    <tr>\n",
       "      <td>chamber pop</td>\n",
       "      <td>23.3</td>\n",
       "    </tr>\n",
       "    <tr>\n",
       "      <td>alternative r&amp;b</td>\n",
       "      <td>21.4</td>\n",
       "    </tr>\n",
       "    <tr>\n",
       "      <td>grime</td>\n",
       "      <td>14.0</td>\n",
       "    </tr>\n",
       "    <tr>\n",
       "      <td>album rock</td>\n",
       "      <td>13.6</td>\n",
       "    </tr>\n",
       "    <tr>\n",
       "      <td>alternative dance</td>\n",
       "      <td>10.8</td>\n",
       "    </tr>\n",
       "    <tr>\n",
       "      <td>birmingham grime</td>\n",
       "      <td>9.1</td>\n",
       "    </tr>\n",
       "    <tr>\n",
       "      <td>NULL</td>\n",
       "      <td>8.3</td>\n",
       "    </tr>\n",
       "    <tr>\n",
       "      <td>indie pop</td>\n",
       "      <td>8.3</td>\n",
       "    </tr>\n",
       "    <tr>\n",
       "      <td>afropop</td>\n",
       "      <td>8.2</td>\n",
       "    </tr>\n",
       "  </tbody>\n",
       "</table>"
      ],
      "text/plain": [
       "<IPython.core.display.HTML object>"
      ]
     },
     "execution_count": 8,
     "metadata": {},
     "output_type": "execute_result"
    }
   ],
   "source": [
    "# Most played genre by time played\n",
    "# To find this I need to JOIN the history and artist tables - this is a key functionality of SQL\n",
    "\n",
    "sql_command = \"\"\"\n",
    "SELECT genre, COUNT(genre) AS cnt\n",
    "FROM\n",
    "(SELECT history.artistName AS artistName, artist.genre AS genre\n",
    "FROM history\n",
    "JOIN artist\n",
    "ON history.artistName = artist.artistName)\n",
    "GROUP BY genre\n",
    "ORDER BY cnt DESC\n",
    "\n",
    "\"\"\"\n",
    "sql_command = \"\"\"\n",
    "SELECT genre, ROUND(SUM(msPlayed)/(60*60*1000.0),1) AS hours_played\n",
    "FROM\n",
    "(SELECT history.msPlayed AS msPlayed, artist.genre AS genre\n",
    "FROM history\n",
    "JOIN artist\n",
    "ON history.artistName = artist.artistName)\n",
    "GROUP BY genre\n",
    "ORDER BY hours_played DESC\n",
    "\n",
    "\"\"\"\n",
    "cur.execute(sql_command)\n",
    "utils.show_table(cur,10)"
   ]
  },
  {
   "cell_type": "markdown",
   "metadata": {},
   "source": [
    "Now this really doesn't match my official most listened genre: Rock. This is because in the process of populating my artist table from the Spotify Web API, I chose only one genre from a list of genres (per artist) provided by Spotify. I simply chose the first genre in the list (which is ordered alphabetically) --- and this explains the apperance of fairly niche genres like *Birmingham Grime* and *Chamber Pop*. A better method of genre selection would be to rank all genres by general popularity and then choose the most popular genre from each list.\n",
    "\n",
    "## and more... \n",
    "\n",
    "Well since I have the data why stop there.  \n",
    "\n",
    "### Listens by month\n",
    "\n",
    "Here I plot the listening time by month"
   ]
  },
  {
   "cell_type": "code",
   "execution_count": 11,
   "metadata": {},
   "outputs": [
    {
     "data": {
      "image/png": "[encoded data removed]",
      "text/plain": [
       "<Figure size 1080x288 with 1 Axes>"
      ]
     },
     "metadata": {
      "needs_background": "light"
     },
     "output_type": "display_data"
    }
   ],
   "source": [
    "# Hours played per month\n",
    "\n",
    "fig = plt.figure(figsize = (15,4)) \n",
    "ax = plt.subplot()\n",
    "bottom = np.zeros(12)\n",
    "for artist_name in [\"Bon Iver\", \"Ariana Grande\", \"Skepta\", \"The 1975\", \"SZA\"]:\n",
    "    months, hours = utils.hours_played_by_month(cur, artist_name)\n",
    "    plt.bar(months, hours, label = artist_name, bottom = bottom)\n",
    "    bottom = bottom + hours # do this to make a stacked bar graph.\n",
    "    \n",
    "# Legend\n",
    "plt.legend(loc = 'best')\n",
    "# to have legend labels same order as stack\n",
    "handles, labels = ax.get_legend_handles_labels()\n",
    "ax.legend(reversed(handles), reversed(labels))\n",
    "\n",
    "# title\n",
    "plt.title('Time listening to artists by month')\n",
    "\n",
    "# axes\n",
    "plt.ylabel('Hours')\n",
    "plt.xticks(months, ['JAN', 'FEB', 'MAR', 'APR', 'MAY', 'JUN', 'JUL', 'AUG', 'SEP', 'OCT', 'NOV', 'DEC']);"
   ]
  },
  {
   "cell_type": "markdown",
   "metadata": {},
   "source": [
    "\n",
    "Here we can see several trends:\n",
    "1. I listened to A LOT of Ariana Grande in February. A quick check shows that she released her her album \"Thank U, Next\" on February 8th. \n",
    "2. I listen to Bon iver pretty steadily through summer and autumn. Their new album was released on August 8th explained a peak in September.\n",
    "3. I listened to SZA pretty steadily throughout the year.\n",
    "4. I listened to a lot more Skepta in the second half of the year than the first.   \n",
    "\n",
    "### Race to most listened artist\n",
    "\n",
    "How about the race to most listened: "
   ]
  },
  {
   "cell_type": "code",
   "execution_count": 12,
   "metadata": {},
   "outputs": [
    {
     "data": {
      "image/png": "[encoded data removed]",
      "text/plain": [
       "<Figure size 1080x288 with 1 Axes>"
      ]
     },
     "metadata": {
      "needs_background": "light"
     },
     "output_type": "display_data"
    }
   ],
   "source": [
    "# Cumulative hours listened over the year\n",
    "\n",
    "fig = plt.figure(figsize = (15,4)) \n",
    "ax = plt.subplot()\n",
    "for artist_name in [\"Bon Iver\", \"Ariana Grande\", \"Skepta\", \"The 1975\", \"SZA\"]:\n",
    "    months, hours = utils.hours_played_by_month(cur, artist_name)\n",
    "    plt.plot(months, np.cumsum(hours), label = artist_name)\n",
    "    \n",
    "# Legend\n",
    "plt.legend(loc = 'best')\n",
    "# to have legend labels same order as stack\n",
    "handles, labels = ax.get_legend_handles_labels()\n",
    "\n",
    "# title\n",
    "plt.title('Cumulative time listening to artists by month')\n",
    "\n",
    "# axes\n",
    "plt.ylabel('Hours')\n",
    "plt.xticks(months, ['JAN', 'FEB', 'MAR', 'APR', 'MAY', 'JUN', 'JUL', 'AUG', 'SEP', 'OCT', 'NOV', 'DEC']);"
   ]
  },
  {
   "cell_type": "markdown",
   "metadata": {},
   "source": [
    "Here we see Ariana Grande rapidly rose to most listened by February, Bon Iver took over around August and Skepta pipped The 1975 to 3rd place in the final two months of the year. A close race!\n",
    "\n",
    "### Over- and under-rated artists\n",
    "\n",
    "Finally I can compare Spotify's popularity measure with a measure of my own rating. My rating is the normalised number of listens by artist. So that my most listened artist (Bon Iver) has a rating of 1.\n",
    "\n",
    "My comparing Spotify's popularity rating with my rating I can see which artists I think are over- or under-rated by Spotify. Or equivalently, over- and under-rated by the public in general. "
   ]
  },
  {
   "cell_type": "code",
   "execution_count": 19,
   "metadata": {},
   "outputs": [
    {
     "data": {
      "image/png": "[encoded data removed]",
      "text/plain": [
       "<Figure size 1080x360 with 1 Axes>"
      ]
     },
     "metadata": {
      "needs_background": "light"
     },
     "output_type": "display_data"
    }
   ],
   "source": [
    "# JOIN tables to compare spotifys popularity measure with my listens\n",
    "sql_command = \"\"\"\n",
    "SELECT DISTINCT hist_count.artistName, hist_count.cnt, artist.popularity\n",
    "FROM (SELECT artistName, COUNT(artistName) AS cnt FROM history GROUP BY artistName) AS hist_count \n",
    "JOIN artist \n",
    "ON hist_count.artistName = artist.artistName\n",
    "ORDER BY cnt DESC\"\"\"\n",
    "cur.execute(sql_command)\n",
    "results = cur.fetchall()\n",
    "\n",
    "my_rating = [(entry[1]/results[0][1]) for entry in results]\n",
    "spotify_pop = [entry[2] for entry in results]\n",
    "\n",
    "plt.figure(figsize = (15,5))\n",
    "plt.scatter(my_rating, spotify_pop, marker = 'x')\n",
    "\n",
    "# title\n",
    "plt.title('My rating VS Spotify rating')\n",
    "\n",
    "# axes\n",
    "plt.ylabel('Spotify\\'s \"Popularity\" rating')\n",
    "plt.xlabel('My rating');"
   ]
  },
  {
   "cell_type": "markdown",
   "metadata": {},
   "source": [
    "In the case that Spotify and I agreed completely on the rating of each song we would expect the plot to show a single monotonously increasing (but probably not linear) function. With this assumption we can make a general statement that any artists who fall on the bottom-right edge of the distribution are artists that I think are better that Spotify does... i.e artists I think Spotify has under-rated. Artists in the top-left corner are artists I think Spotify has over-rated. \n",
    "\n",
    "For instance the entry around (0.18, 0) is D'Angelo which Spotify has given a popularity rating of 0. This plot shows that I think D'Angelo is massively under-rated!\n",
    "\n",
    "## The end"
   ]
  },
  {
   "cell_type": "code",
   "execution_count": 18,
   "metadata": {},
   "outputs": [],
   "source": [
    "# to close the sqlite3 console\n",
    "con.close()"
   ]
  },
  {
   "cell_type": "markdown",
   "metadata": {},
   "source": [
    "(This idea for this work was inspired by this article https://towardsdatascience.com/i-wrapped-my-spotify-history-the-hard-way-93dc832d9b47 however my implementation was original and our data analyses are different. )"
   ]
  },
  {
   "cell_type": "code",
   "execution_count": null,
   "metadata": {},
   "outputs": [],
   "source": []
  }
 ],
 "metadata": {
  "kernelspec": {
   "display_name": "Python 3",
   "language": "python",
   "name": "python3"
  },
  "language_info": {
   "codemirror_mode": {
    "name": "ipython",
    "version": 3
   },
   "file_extension": ".py",
   "mimetype": "text/x-python",
   "name": "python",
   "nbconvert_exporter": "python",
   "pygments_lexer": "ipython3",
   "version": "3.6.8"
  }
 },
 "nbformat": 4,
 "nbformat_minor": 2
}
